{
 "cells": [
  {
   "cell_type": "code",
   "execution_count": 13,
   "metadata": {
    "scrolled": true
   },
   "outputs": [
    {
     "name": "stdout",
     "output_type": "stream",
     "text": [
      "Requirement already satisfied: arxiv in c:\\users\\dglover\\anaconda3\\lib\\site-packages (2.0.0)\n",
      "Requirement already satisfied: requests==2.31.0 in c:\\users\\dglover\\anaconda3\\lib\\site-packages (from arxiv) (2.31.0)\n",
      "Requirement already satisfied: feedparser==6.0.10 in c:\\users\\dglover\\anaconda3\\lib\\site-packages (from arxiv) (6.0.10)\n",
      "Requirement already satisfied: sgmllib3k in c:\\users\\dglover\\anaconda3\\lib\\site-packages (from feedparser==6.0.10->arxiv) (1.0.0)\n",
      "Requirement already satisfied: urllib3<3,>=1.21.1 in c:\\users\\dglover\\anaconda3\\lib\\site-packages (from requests==2.31.0->arxiv) (1.26.12)\n",
      "Requirement already satisfied: idna<4,>=2.5 in c:\\users\\dglover\\anaconda3\\lib\\site-packages (from requests==2.31.0->arxiv) (3.4)\n",
      "Requirement already satisfied: charset-normalizer<4,>=2 in c:\\users\\dglover\\anaconda3\\lib\\site-packages (from requests==2.31.0->arxiv) (2.1.1)\n",
      "Requirement already satisfied: certifi>=2017.4.17 in c:\\users\\dglover\\anaconda3\\lib\\site-packages (from requests==2.31.0->arxiv) (2023.5.7)\n"
     ]
    }
   ],
   "source": [
    "import pandas as pd\n",
    "from time import sleep\n",
    "!pip install arxiv"
   ]
  },
  {
   "cell_type": "code",
   "execution_count": 14,
   "metadata": {},
   "outputs": [],
   "source": [
    "import arxiv"
   ]
  },
  {
   "cell_type": "code",
   "execution_count": 15,
   "metadata": {},
   "outputs": [],
   "source": [
    "pdf_folder = '..\\\\..\\\\PDFs_200'"
   ]
  },
  {
   "cell_type": "code",
   "execution_count": 16,
   "metadata": {
    "scrolled": true
   },
   "outputs": [
    {
     "name": "stdout",
     "output_type": "stream",
     "text": [
      "Natural Language Processing using Hadoop and KOSHIK\n",
      "Integrating AI Planning with Natural Language Processing: A Combination of Explicit and Tacit Knowledge\n",
      "Simple Natural Language Processing Tools for Danish\n",
      "Towards the Study of Morphological Processing of the Tangkhul Language\n",
      "Natural Language Understanding with Distributed Representation\n",
      "A Primer on Neural Network Models for Natural Language Processing\n",
      "Deploying Technology to Save Endangered Languages\n",
      "Multilingual Text Classification for Dravidian Languages\n",
      "Fence - An Efficient Parser with Ambiguity Support for Model-Driven Language Specification\n",
      "A Precis of Language Models are not Models of Language\n",
      "Supporting Undotted Arabic with Pre-trained Language Models\n",
      "Continuous multilinguality with language vectors\n",
      "Including Signed Languages in Natural Language Processing\n",
      "Self-move and Other-move: Quantum Categorical Foundations of Japanese\n",
      "Problems and Countermeasures in Natural Language Processing Evaluation\n",
      "A Survey of Resources and Methods for Natural Language Processing of Serbian Language\n",
      "A natural language interface to a graph-based bibliographic information retrieval system\n",
      "Specifying Logic Programs in Controlled Natural Language\n",
      "On Even Linear Indexed Languages with a Reduction to the Learning of Context-Free Languages\n",
      "Natural Language Generation Using Link Grammar for General Conversational Intelligence\n",
      "Language Tasks and Language Games: On Methodology in Current Natural Language Processing Research\n",
      "ANGLEr: A Next-Generation Natural Language Exploratory Framework\n",
      "Information Flow in Pregroup Models of Natural Language\n",
      "Curriculum learning for language modeling\n",
      "Fuzzy Modeling and Natural Language Processing for Panini's Sanskrit Grammar\n",
      "Natural Language Understanding Based on Semantic Relations between Sentences\n",
      "Thoth: Improved Rapid Serial Visual Presentation using Natural Language Processing\n",
      "Pretraining with Artificial Language: Studying Transferable Knowledge in Language Models\n",
      "Categorical Tools for Natural Language Processing\n",
      "Unnatural Language Processing: Bridging the Gap Between Synthetic and Natural Language Data\n",
      "Challenges Encountered in Turkish Natural Language Processing Studies\n",
      "Generalisation of language and knowledge models for corpus analysis\n",
      "The Dissecting Power of Regular Languages\n",
      "Cedille: A large autoregressive French language model\n",
      "Development of Deep Learning Based Natural Language Processing Model for Turkish\n",
      "JamPatoisNLI: A Jamaican Patois Natural Language Inference Dataset\n",
      "Natural Language Reasoning, A Survey\n",
      "File mapping Rule-based DBMS and Natural Language Processing\n",
      "GANCoder: An Automatic Natural Language-to-Programming Language Translation Approach based on GAN\n",
      "Cross-lingual Adaption Model-Agnostic Meta-Learning for Natural Language Understanding\n",
      "Integrating Linguistic Theory and Neural Language Models\n",
      "Composition by Conversation\n",
      "Controlled Natural Languages and Default Reasoning\n",
      "Attributes as Semantic Units between Natural Language and Visual Recognition\n",
      "An Overview of Natural Language State Representation for Reinforcement Learning\n",
      "Natural Language Specifications in Proof Assistants\n",
      "Can Transformers Reason in Fragments of Natural Language?\n",
      "Putting Natural in Natural Language Processing\n",
      "NLTK: The Natural Language Toolkit\n",
      "Incrementalizing RASA's Open-Source Natural Language Understanding Pipeline\n",
      "How Commonsense Knowledge Helps with Natural Language Tasks: A Survey of Recent Resources and Methodologies\n",
      "Evaluating Computational Language Models with Scaling Properties of Natural Language\n",
      "Benchmarking Language Models for Code Syntax Understanding\n",
      "Chart-driven Connectionist Categorial Parsing of Spoken Korean\n",
      "Using the DIFF Command for Natural Language Processing\n",
      "Implementation of nlization framework for verbs, pronouns and determiners with eugene\n",
      "SKOPE: A connectionist/symbolic architecture of spoken Korean processing\n",
      "Fuzzy Temporal Protoforms for the Quantitative Description of Processes in Natural Language\n",
      "Gap Analysis of Natural Language Processing Systems with respect to Linguistic Modality\n",
      "Spontaneous Emerging Preference in Two-tower Language Model\n",
      "Large Language Models on the Chessboard: A Study on ChatGPT's Formal Language Comprehension and Complex Reasoning Skills\n",
      "Persian Natural Language Inference: A Meta-learning approach\n",
      "Linking Emergent and Natural Languages via Corpus Transfer\n",
      "Language understanding as a step towards human level intelligence - automatizing the construction of the initial dictionary from example sentences\n",
      "Architecture of an Ontology-Based Domain-Specific Natural Language Question Answering System\n",
      "Defining and Evaluating Fair Natural Language Generation\n",
      "Large Language Models are not Models of Natural Language: they are Corpus Models\n",
      "Stopwords in Technical Language Processing\n",
      "Teaching natural language to computers\n",
      "A State of the Art of Word Sense Induction: A Way Towards Word Sense Disambiguation for Under-Resourced Languages\n",
      "Racial Disparity in Natural Language Processing: A Case Study of Social Media African-American English\n",
      "Automatic Code Generation using Pre-Trained Language Models\n",
      "Are Style Guides Controlled Languages? The Case of Koenig & Bauer AG\n",
      "Embedded Controlled Languages\n",
      "Syntax Representation in Word Embeddings and Neural Networks -- A Survey\n",
      "Constraint Logic Programming for Natural Language Processing\n",
      "Architecture of a Web-based Predictive Editor for Controlled Natural Language Processing\n",
      "Natural Language Processing: State of The Art, Current Trends and Challenges\n",
      "An OLAC Extension for Dravidian Languages\n",
      "Natural Language Semantics and Computability\n",
      "Logical Semantics, Dialogical Argumentation, and Textual Entailment\n",
      "A perspective on the advancement of natural language processing tasks via topological analysis of complex networks\n",
      "Automatic Language Identification for Romance Languages using Stop Words and Diacritics\n",
      "Language Segmentation\n",
      "Machine Translation between Spoken Languages and Signed Languages Represented in SignWriting\n",
      "How Good are Commercial Large Language Models on African Languages?\n",
      "Development of Word Embeddings for Uzbek Language\n",
      "Exploring Chemical Space using Natural Language Processing Methodologies for Drug Discovery\n",
      "Natural Language Processing Chains Inside a Cross-lingual Event-Centric Knowledge Pipeline for European Union Under-resourced Languages\n",
      "Parsing of part-of-speech tagged Assamese Texts\n",
      "Statistical patterns of word frequency suggesting the probabilistic nature of human languages\n",
      "Contextualising Levels of Language Resourcedness affecting Digital Processing of Text\n",
      "Novel Keyword Extraction and Language Detection Approaches\n",
      "Investigating Masking-based Data Generation in Language Models\n",
      "Understanding scholarly Natural Language Processing system diagrams through application of the Richards-Engelhardt framework\n",
      "Indian Legal NLP Benchmarks : A Survey\n",
      "Hierarchical Representation in Neural Language Models: Suppression and Recovery of Expectations\n",
      "OCR Post Correction for Endangered Language Texts\n",
      "An Assessment of the Impact of OCR Noise on Language Models\n",
      "LangPro: Natural Language Theorem Prover\n",
      "SIB-200: A Simple, Inclusive, and Big Evaluation Dataset for Topic Classification in 200+ Languages and Dialects\n",
      "Basic Classes of Grammars with Prohibition\n",
      "XLDA: Cross-Lingual Data Augmentation for Natural Language Inference and Question Answering\n",
      "BioBART: Pretraining and Evaluation of A Biomedical Generative Language Model\n",
      "XNLI 2.0: Improving XNLI dataset and performance on Cross Lingual Understanding (XLU)\n",
      "Zero-shot cross-lingual transfer language selection using linguistic similarity\n",
      "Syllable-based Neural Named Entity Recognition for Myanmar Language\n",
      "Comparative Analysis of Word Embeddings for Capturing Word Similarities\n",
      "Do learned speech symbols follow Zipf's law?\n",
      "LanideNN: Multilingual Language Identification on Character Window\n",
      "HinFlair: pre-trained contextual string embeddings for pos tagging and text classification in the Hindi language\n",
      "Exploring the Naturalness of Buggy Code with Recurrent Neural Networks\n",
      "Collaborative construction of lexicographic and parallel datasets for African languages: first assessment\n",
      "Message-Passing Protocols for Real-World Parsing -- An Object-Oriented Model and its Preliminary Evaluation\n"
     ]
    },
    {
     "name": "stdout",
     "output_type": "stream",
     "text": [
      "Knowledge Engineering using Large Language Models\n",
      "GreekBART: The First Pretrained Greek Sequence-to-Sequence Model\n",
      "Description Logics based Formalization of Wh-Queries\n",
      "Extracting and filtering paraphrases by bridging natural language inference and paraphrasing\n",
      "Extension of hidden markov model for recognizing large vocabulary of sign language\n",
      "Knowledge Representation for Conceptual, Motivational, and Affective Processes in Natural Language Communication\n",
      "Natural language processing: she needs something old and something new (maybe something borrowed and something blue, too)\n",
      "What is word sense disambiguation good for?\n",
      "Evaluation of Computational Grammar Formalisms for Indian Languages\n",
      "From Textual Information Sources to Linked Data in the Agatha Project\n",
      "Parametrized Quantum Circuits of Synonymous Sentences in Quantum Natural Language Processing\n",
      "The Role of Explanatory Value in Natural Language Processing\n",
      "Opportunities for Large Language Models and Discourse in Engineering Design\n",
      "Autonomous requirements specification processing using natural language processing\n",
      "Semi-supervised Classification for Natural Language Processing\n",
      "New Approaches for Natural Language Understanding based on the Idea that Natural Language encodes both Information and its Processing Procedures\n",
      "Semantic Parsing Natural Language into SPARQL: Improving Target Language Representation with Neural Attention\n",
      "Towards a Natural Language Query Processing System\n",
      "Exploring Software Naturalness through Neural Language Models\n",
      "From BERT to GPT-3 Codex: Harnessing the Potential of Very Large Language Models for Data Management\n",
      "Reasoning about Procedures with Natural Language Processing: A Tutorial\n",
      "One Model to Rule them all: Multitask and Multilingual Modelling for Lexical Analysis\n",
      "Sejarah dan Perkembangan Teknik Natural Language Processing (NLP) Bahasa Indonesia: Tinjauan tentang sejarah, perkembangan teknologi, dan aplikasi NLP dalam bahasa Indonesia\n",
      "Evolution of Natural Language Processing Technology: Not Just Language Processing Towards General Purpose AI\n",
      "The language (and series) of Hammersley-type processes\n",
      "LINDA: Unsupervised Learning to Interpolate in Natural Language Processing\n",
      "SBNet: Segmentation-based Network for Natural Language-based Vehicle Search\n",
      "Emergence of Numeric Concepts in Multi-Agent Autonomous Communication\n",
      "Natural Language is All a Graph Needs\n",
      "Language-Family Adapters for Low-Resource Multilingual Neural Machine Translation\n",
      "NLNDE at SemEval-2023 Task 12: Adaptive Pretraining and Source Language Selection for Low-Resource Multilingual Sentiment Analysis\n",
      "LIMIT: Language Identification, Misidentification, and Translation using Hierarchical Models in 350+ Languages\n",
      "An implementation of Apertium based Assamese morphological analyzer\n",
      "Stemmers for Tamil Language: Performance Analysis\n",
      "BNLP: Natural language processing toolkit for Bengali language\n",
      "SwissBERT: The Multilingual Language Model for Switzerland\n",
      "Analyzing the Surprising Variability in Word Embedding Stability Across Languages\n",
      "Differentially Private Language Models Benefit from Public Pre-training\n",
      "Towards a Deep Multi-layered Dialectal Language Analysis: A Case Study of African-American English\n",
      "Improved Text Language Identification for the South African Languages\n",
      "Extracting Weighted Finite Automata from Recurrent Neural Networks for Natural Languages\n",
      "MyProLang - My Programming Language: A Template-Driven Automatic Natural Programming Language\n",
      "Towards More Robust Natural Language Understanding\n",
      "SufiSent - Universal Sentence Representations Using Suffix Encodings\n",
      "Integrated speech and morphological processing in a connectionist continuous speech understanding for Korean\n",
      "Generalized Optimal Linear Orders\n",
      "A Chomsky-Schützenberger representation for weighted multiple context-free languages\n",
      "Error Analysis for Vietnamese Dependency Parsing\n",
      "Functorial Language Games for Question Answering\n",
      "Bilingual Lexicon Induction for Low-Resource Languages using Graph Matching via Optimal Transport\n",
      "Du TAL au TIL\n",
      "Deep Learning Based Natural Language Processing for End to End Speech Translation\n",
      "CodexDB: Generating Code for Processing SQL Queries using GPT-3 Codex\n",
      "Modelling Word Burstiness in Natural Language: A Generalised Polya Process for Document Language Models in Information Retrieval\n",
      "Computational Language Assessment in patients with speech, language, and communication impairments\n",
      "InstructProtein: Aligning Human and Protein Language via Knowledge Instruction\n",
      "Morphological Processing of Low-Resource Languages: Where We Are and What's Next\n",
      "Modular Mechanistic Networks: On Bridging Mechanistic and Phenomenological Models with Deep Neural Networks in Natural Language Processing\n",
      "Natural Language Decomposition and Interpretation of Complex Utterances\n",
      "Leveraging Large Language Models to Generate Answer Set Programs\n",
      "Learning Lexical Entries for Robotic Commands using Crowdsourcing\n",
      "Listen, Interact and Talk: Learning to Speak via Interaction\n",
      "Natural Language Statistical Features of LSTM-generated Texts\n",
      "Spiral Language Modeling\n",
      "Do Neural Nets Learn Statistical Laws behind Natural Language?\n",
      "Low-Dimensional Structure in the Space of Language Representations is Reflected in Brain Responses\n",
      "From Natural Language Instructions to Complex Processes: Issues in Chaining Trigger Action Rules\n",
      "COOL, a Context Outlooker, and its Application to Question Answering and other Natural Language Processing Tasks\n",
      "Assessing Language Models with Scaling Properties\n",
      "ArNLI: Arabic Natural Language Inference for Entailment and Contradiction Detection\n",
      "Estimating Subjective Crowd-Evaluations as an Additional Objective to Improve Natural Language Generation\n",
      "Ad Text Classification with Transformer-Based Natural Language Processing Methods\n",
      "Language Without Words: A Pointillist Model for Natural Language Processing\n",
      "Hidden Markov Model Based Part of Speech Tagger for Sinhala Language\n",
      "HerBERT: Efficiently Pretrained Transformer-based Language Model for Polish\n",
      "A Novel Task-Oriented Text Corpus in Silent Speech Recognition and its Natural Language Generation Construction Method\n",
      "Specifying and Verbalising Answer Set Programs in Controlled Natural Language\n",
      "A Framework for Creating Natural Language User Interfaces for Action-Based Applications\n",
      "Knowledge Graph Extraction from Videos\n",
      "What a Creole Wants, What a Creole Needs\n",
      "LVP-M3: Language-aware Visual Prompt for Multilingual Multimodal Machine Translation\n",
      "Improve Bilingual TTS Using Dynamic Language and Phonology Embedding\n",
      "Exploring Language Similarities with Dimensionality Reduction Technique\n",
      "On the Language-specificity of Multilingual BERT and the Impact of Fine-tuning\n",
      "On the Applicability of Language Models to Block-Based Programs\n",
      "Process-Oriented Parallel Programming with an Application to Data-Intensive Computing\n"
     ]
    }
   ],
   "source": [
    "search = arxiv.Search(\n",
    "  query=\"natural language processing\",\n",
    "  max_results=200,\n",
    "  sort_by=arxiv.SortCriterion.Relevance,\n",
    ")\n",
    "\n",
    "# Initialize an empty list to store dictionaries\n",
    "paper_list = []\n",
    "\n",
    "for result in arxiv.Client().results(search):\n",
    "    print(result.title)\n",
    "    # Create a dictionary for each paper\n",
    "    paper_info = {\n",
    "        'Title': result.title,\n",
    "        'PDF URL': result.pdf_url,\n",
    "        'Author' : result.authors,\n",
    "        'DOI' : result.doi,\n",
    "        'Published Date': result.published,\n",
    "        'Summary' : result.summary,\n",
    "        'Journal Ref' : result.journal_ref,\n",
    "        'Primary Category' : result.primary_category,\n",
    "        'Category' : result.categories,\n",
    "        'Entry ID' : result.entry_id\n",
    "    }\n",
    "    name = result.pdf_url.split('/')[-1] + '.pdf' #.replace('.','_')\n",
    "    result.download_pdf(dirpath=pdf_folder, filename = name)\n",
    "    paper_list.append(paper_info)\n",
    "    sleep(3)\n",
    "\n",
    "# Print the list of dictionaries\n",
    "#for paper in paper_list:\n",
    "#    print(paper)"
   ]
  },
  {
   "cell_type": "code",
   "execution_count": 17,
   "metadata": {},
   "outputs": [],
   "source": [
    "import pandas as pd\n",
    "df = pd.DataFrame(paper_list)"
   ]
  },
  {
   "cell_type": "code",
   "execution_count": 18,
   "metadata": {},
   "outputs": [
    {
     "data": {
      "text/html": [
       "<div>\n",
       "<style scoped>\n",
       "    .dataframe tbody tr th:only-of-type {\n",
       "        vertical-align: middle;\n",
       "    }\n",
       "\n",
       "    .dataframe tbody tr th {\n",
       "        vertical-align: top;\n",
       "    }\n",
       "\n",
       "    .dataframe thead th {\n",
       "        text-align: right;\n",
       "    }\n",
       "</style>\n",
       "<table border=\"1\" class=\"dataframe\">\n",
       "  <thead>\n",
       "    <tr style=\"text-align: right;\">\n",
       "      <th></th>\n",
       "      <th>Title</th>\n",
       "      <th>PDF URL</th>\n",
       "      <th>Author</th>\n",
       "      <th>DOI</th>\n",
       "      <th>Published Date</th>\n",
       "      <th>Summary</th>\n",
       "      <th>Journal Ref</th>\n",
       "      <th>Primary Category</th>\n",
       "      <th>Category</th>\n",
       "      <th>Entry ID</th>\n",
       "    </tr>\n",
       "  </thead>\n",
       "  <tbody>\n",
       "    <tr>\n",
       "      <th>0</th>\n",
       "      <td>Natural Language Processing using Hadoop and K...</td>\n",
       "      <td>http://arxiv.org/pdf/1608.04434v1</td>\n",
       "      <td>[Emre Erturk, Hong Shi]</td>\n",
       "      <td>None</td>\n",
       "      <td>2016-08-15 23:09:21+00:00</td>\n",
       "      <td>Natural language processing, as a data analyti...</td>\n",
       "      <td>None</td>\n",
       "      <td>cs.CL</td>\n",
       "      <td>[cs.CL]</td>\n",
       "      <td>http://arxiv.org/abs/1608.04434v1</td>\n",
       "    </tr>\n",
       "    <tr>\n",
       "      <th>1</th>\n",
       "      <td>Integrating AI Planning with Natural Language ...</td>\n",
       "      <td>http://arxiv.org/pdf/2202.07138v2</td>\n",
       "      <td>[Kebing Jin, Hankz Hankui Zhuo]</td>\n",
       "      <td>None</td>\n",
       "      <td>2022-02-15 02:19:09+00:00</td>\n",
       "      <td>Natural language processing (NLP) aims at inve...</td>\n",
       "      <td>None</td>\n",
       "      <td>cs.AI</td>\n",
       "      <td>[cs.AI, cs.CL]</td>\n",
       "      <td>http://arxiv.org/abs/2202.07138v2</td>\n",
       "    </tr>\n",
       "  </tbody>\n",
       "</table>\n",
       "</div>"
      ],
      "text/plain": [
       "                                               Title  \\\n",
       "0  Natural Language Processing using Hadoop and K...   \n",
       "1  Integrating AI Planning with Natural Language ...   \n",
       "\n",
       "                             PDF URL                           Author   DOI  \\\n",
       "0  http://arxiv.org/pdf/1608.04434v1          [Emre Erturk, Hong Shi]  None   \n",
       "1  http://arxiv.org/pdf/2202.07138v2  [Kebing Jin, Hankz Hankui Zhuo]  None   \n",
       "\n",
       "             Published Date  \\\n",
       "0 2016-08-15 23:09:21+00:00   \n",
       "1 2022-02-15 02:19:09+00:00   \n",
       "\n",
       "                                             Summary Journal Ref  \\\n",
       "0  Natural language processing, as a data analyti...        None   \n",
       "1  Natural language processing (NLP) aims at inve...        None   \n",
       "\n",
       "  Primary Category        Category                           Entry ID  \n",
       "0            cs.CL         [cs.CL]  http://arxiv.org/abs/1608.04434v1  \n",
       "1            cs.AI  [cs.AI, cs.CL]  http://arxiv.org/abs/2202.07138v2  "
      ]
     },
     "execution_count": 18,
     "metadata": {},
     "output_type": "execute_result"
    }
   ],
   "source": [
    "df.head(2)"
   ]
  },
  {
   "cell_type": "code",
   "execution_count": 19,
   "metadata": {},
   "outputs": [
    {
     "data": {
      "text/plain": [
       "(200, 10)"
      ]
     },
     "execution_count": 19,
     "metadata": {},
     "output_type": "execute_result"
    }
   ],
   "source": [
    "df.shape"
   ]
  },
  {
   "cell_type": "code",
   "execution_count": 20,
   "metadata": {},
   "outputs": [],
   "source": [
    "df.to_csv('..\\\\data\\\\arxiv_papers_full_200.csv')"
   ]
  },
  {
   "cell_type": "code",
   "execution_count": 21,
   "metadata": {},
   "outputs": [],
   "source": []
  },
  {
   "cell_type": "code",
   "execution_count": 22,
   "metadata": {},
   "outputs": [
    {
     "data": {
      "text/plain": [
       "'C:\\\\Users\\\\hdawson\\\\OneDrive - TP Group Plc\\\\Documents\\\\TP group\\\\_Internal Projects\\\\Hackathon\\\\SGHacks\\\\data\\\\PDFs'"
      ]
     },
     "execution_count": 22,
     "metadata": {},
     "output_type": "execute_result"
    }
   ],
   "source": [
    "pdf_folder"
   ]
  },
  {
   "cell_type": "code",
   "execution_count": 23,
   "metadata": {},
   "outputs": [],
   "source": [
    "search = arxiv.Search(\n",
    "  query=\"NLP\",\n",
    "  max_results=5,\n",
    "  sort_by=arxiv.SortCriterion.SubmittedDate,\n",
    ")\n",
    "\n",
    "for result in arxiv.Client().results(search):\n",
    "    title =  result.title\n",
    "    print(title)\n",
    "\n"
   ]
  },
  {
   "cell_type": "code",
   "execution_count": null,
   "metadata": {},
   "outputs": [],
   "source": []
  }
 ],
 "metadata": {
  "kernelspec": {
   "display_name": "Python 3 (ipykernel)",
   "language": "python",
   "name": "python3"
  },
  "language_info": {
   "codemirror_mode": {
    "name": "ipython",
    "version": 3
   },
   "file_extension": ".py",
   "mimetype": "text/x-python",
   "name": "python",
   "nbconvert_exporter": "python",
   "pygments_lexer": "ipython3",
   "version": "3.8.8"
  }
 },
 "nbformat": 4,
 "nbformat_minor": 1
}
