{
 "cells": [
  {
   "cell_type": "code",
   "execution_count": 5,
   "metadata": {
    "collapsed": true
   },
   "outputs": [],
   "source": [
    "import openai\n",
    "import credentials\n",
    "\n",
    "openai.api_key = credentials.openai_key"
   ]
  },
  {
   "cell_type": "code",
   "execution_count": 6,
   "outputs": [],
   "source": [
    "# Query OpenAI endpoint\n",
    "entities_to_scrape = [\"people\", \"places\", \"works\", \"books\"]\n",
    "\n",
    "system_content = f'you need to extract the entities of type ({entities_to_scrape}) and their relationships from the text provided. can you provide the output in a json string that encodes the source and target entities and their relationship.'  # system content (behavior)\n",
    "assistant_content = ''  # assistant content (context)\n",
    "user_content = \"Commander James Bond CMG RNVR is a character created by the British journalist and novelist Ian Fleming in 1953. He is the protagonist of the James Bond series of novels, films, comics and video games. Fleming wrote twelve Bond novels and two short story collections. His final two books—The Man with the Golden Gun (1965) and Octopussy and The Living Daylights (1966)—were published posthumously.The character is a Secret Service agent, code number 007 (pronounced \\\"double-O[\\/oʊ\\/]-seven\\\"), residing in London but active internationally. Bond was a composite character who was based on a number of commandos whom Fleming knew during his service in the Naval Intelligence Division during the Second World War, to whom Fleming added his own style and a number of his own tastes. Bond's name may have been appropriated from the American ornithologist of the same name, although it is possible that Fleming took the name from a Welsh agent with whom he served, James C. Bond. Bond has a number of consistent character traits which run throughout the books, including an enjoyment of cars, a love of food, drink and sex, and an average intake of sixty custom-made cigarettes a day.\"  # user content (message)\n",
    "response = openai.ChatCompletion.create(\n",
    "    model=\"gpt-4\",\n",
    "    messages=[\n",
    "        {\"role\": \"system\", \"content\": system_content},\n",
    "        {\"role\": \"assistant\", \"content\": assistant_content},\n",
    "        {\"role\": \"user\", \"content\": user_content},\n",
    "    ],\n",
    ")"
   ],
   "metadata": {
    "collapsed": false,
    "pycharm": {
     "name": "#%%\n"
    }
   }
  },
  {
   "cell_type": "code",
   "execution_count": 7,
   "outputs": [],
   "source": [
    "output = response.to_dict()[\"choices\"][0].to_dict()[\"message\"][\"content\"]\n",
    "\n",
    "# Writing to shiewple.json\n",
    "with open(\"sample.json\", \"w\") as outfile:\n",
    "    outfile.write(output)"
   ],
   "metadata": {
    "collapsed": false,
    "pycharm": {
     "name": "#%%\n"
    }
   }
  }
 ],
 "metadata": {
  "kernelspec": {
   "display_name": "Python 3",
   "language": "python",
   "name": "python3"
  },
  "language_info": {
   "codemirror_mode": {
    "name": "ipython",
    "version": 2
   },
   "file_extension": ".py",
   "mimetype": "text/x-python",
   "name": "python",
   "nbconvert_exporter": "python",
   "pygments_lexer": "ipython2",
   "version": "2.7.6"
  }
 },
 "nbformat": 4,
 "nbformat_minor": 0
}