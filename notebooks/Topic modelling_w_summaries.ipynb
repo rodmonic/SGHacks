{
 "cells": [
  {
   "cell_type": "markdown",
   "id": "87fc752e",
   "metadata": {},
   "source": [
    "# Topic modelling"
   ]
  },
  {
   "cell_type": "markdown",
   "id": "14bd90fd",
   "metadata": {},
   "source": [
    "## 0.0 Imports"
   ]
  },
  {
   "cell_type": "code",
   "execution_count": 2,
   "id": "36bd3d0c",
   "metadata": {},
   "outputs": [
    {
     "name": "stderr",
     "output_type": "stream",
     "text": [
      "[nltk_data] Downloading package stopwords to\n",
      "[nltk_data]     C:\\Users\\dglover\\AppData\\Roaming\\nltk_data...\n",
      "[nltk_data]   Package stopwords is already up-to-date!\n"
     ]
    },
    {
     "data": {
      "text/plain": [
       "True"
      ]
     },
     "execution_count": 2,
     "metadata": {},
     "output_type": "execute_result"
    }
   ],
   "source": [
    "import nltk\n",
    "nltk.download('stopwords')"
   ]
  },
  {
   "cell_type": "code",
   "execution_count": 3,
   "id": "217c8d5c",
   "metadata": {},
   "outputs": [],
   "source": [
    "import re\n",
    "import numpy as np\n",
    "import pandas as pd\n",
    "from pprint import pprint\n",
    "\n",
    "# Gensim\n",
    "import gensim\n",
    "import gensim.corpora as corpora\n",
    "from gensim.utils import simple_preprocess\n",
    "from gensim.models import CoherenceModel\n",
    "\n",
    "# spacy for lemmatization\n",
    "import spacy\n",
    "\n",
    "# Plotting tools\n",
    "import pyLDAvis\n",
    "import pyLDAvis.gensim  # don't skip this\n",
    "import matplotlib.pyplot as plt\n",
    "%matplotlib inline\n",
    "\n",
    "# Enable logging for gensim - optional\n",
    "import logging\n",
    "logging.basicConfig(format='%(asctime)s : %(levelname)s : %(message)s', level=logging.ERROR)\n",
    "\n",
    "import warnings\n",
    "warnings.filterwarnings(\"ignore\",category=DeprecationWarning)"
   ]
  },
  {
   "cell_type": "markdown",
   "id": "dd49c49d",
   "metadata": {},
   "source": [
    "## 1.0 Run"
   ]
  },
  {
   "cell_type": "code",
   "execution_count": 4,
   "id": "aa4a4912",
   "metadata": {},
   "outputs": [],
   "source": [
    "# NLTK Stop words\n",
    "from nltk.corpus import stopwords\n",
    "stop_words = stopwords.words('english')\n",
    "stop_words.extend(['use', 'show', 'however', 'approach', 'well', 'provide',' present', 'include', 'word', 'nlp'])"
   ]
  },
  {
   "cell_type": "code",
   "execution_count": 5,
   "id": "feb04083",
   "metadata": {
    "scrolled": true
   },
   "outputs": [
    {
     "data": {
      "text/html": [
       "<div>\n",
       "<style scoped>\n",
       "    .dataframe tbody tr th:only-of-type {\n",
       "        vertical-align: middle;\n",
       "    }\n",
       "\n",
       "    .dataframe tbody tr th {\n",
       "        vertical-align: top;\n",
       "    }\n",
       "\n",
       "    .dataframe thead th {\n",
       "        text-align: right;\n",
       "    }\n",
       "</style>\n",
       "<table border=\"1\" class=\"dataframe\">\n",
       "  <thead>\n",
       "    <tr style=\"text-align: right;\">\n",
       "      <th></th>\n",
       "      <th>Summary</th>\n",
       "    </tr>\n",
       "    <tr>\n",
       "      <th>Filename</th>\n",
       "      <th></th>\n",
       "    </tr>\n",
       "  </thead>\n",
       "  <tbody>\n",
       "    <tr>\n",
       "      <th>1809.09190v1.pdf</th>\n",
       "      <td>In this paper we formulate audio play hot n c...</td>\n",
       "    </tr>\n",
       "    <tr>\n",
       "      <th>1903.10625v2.pdf</th>\n",
       "      <td>Finite State Transducers FST are an efficient...</td>\n",
       "    </tr>\n",
       "    <tr>\n",
       "      <th>1904.04307v1.pdf</th>\n",
       "      <td>The quantification of semantic similarity bet...</td>\n",
       "    </tr>\n",
       "    <tr>\n",
       "      <th>1809.02794v3.pdf</th>\n",
       "      <td>This paper focuses on the aim of semantic rol...</td>\n",
       "    </tr>\n",
       "    <tr>\n",
       "      <th>1805.01083v1.pdf</th>\n",
       "      <td>The mainconstructusedinextractionlanguagesand...</td>\n",
       "    </tr>\n",
       "  </tbody>\n",
       "</table>\n",
       "</div>"
      ],
      "text/plain": [
       "                                                            Summary\n",
       "Filename                                                           \n",
       "1809.09190v1.pdf   In this paper we formulate audio play hot n c...\n",
       "1903.10625v2.pdf   Finite State Transducers FST are an efficient...\n",
       "1904.04307v1.pdf   The quantification of semantic similarity bet...\n",
       "1809.02794v3.pdf   This paper focuses on the aim of semantic rol...\n",
       "1805.01083v1.pdf   The mainconstructusedinextractionlanguagesand..."
      ]
     },
     "execution_count": 5,
     "metadata": {},
     "output_type": "execute_result"
    }
   ],
   "source": [
    "# Import Dataset\n",
    "df = pd.read_csv('..\\\\data\\\\50_summaries.csv', index_col=0)\n",
    "#print(df.target_names.unique())\n",
    "df.head()"
   ]
  },
  {
   "cell_type": "code",
   "execution_count": 6,
   "id": "796e6d7f",
   "metadata": {},
   "outputs": [
    {
     "data": {
      "text/plain": [
       "Summary    0\n",
       "dtype: int64"
      ]
     },
     "execution_count": 6,
     "metadata": {},
     "output_type": "execute_result"
    }
   ],
   "source": [
    "df.isna().sum()"
   ]
  },
  {
   "cell_type": "code",
   "execution_count": 7,
   "id": "18bd48f1",
   "metadata": {},
   "outputs": [
    {
     "data": {
      "text/plain": [
       "(50, 1)"
      ]
     },
     "execution_count": 7,
     "metadata": {},
     "output_type": "execute_result"
    }
   ],
   "source": [
    "df.shape"
   ]
  },
  {
   "cell_type": "code",
   "execution_count": 8,
   "id": "d50a2586",
   "metadata": {},
   "outputs": [],
   "source": [
    "df['Summary'] = df['Summary'].map(lambda x: x.lower().replace('natural langauge processing', ''))"
   ]
  },
  {
   "cell_type": "code",
   "execution_count": 9,
   "id": "0e2fa055",
   "metadata": {},
   "outputs": [],
   "source": [
    "# Convert to list\n",
    "data = df['Summary'].values.tolist()\n",
    "\n",
    "# Remove new line characters\n",
    "data = [re.sub('\\s+', ' ', sent) for sent in data]\n",
    "\n",
    "# Remove distracting single quotes\n",
    "data = [re.sub(\"\\'\", \"\", sent) for sent in data]"
   ]
  },
  {
   "cell_type": "code",
   "execution_count": 10,
   "id": "bebe6739",
   "metadata": {},
   "outputs": [],
   "source": [
    "def sent_to_words(sentences):\n",
    "    for sentence in sentences:\n",
    "        yield(gensim.utils.simple_preprocess(str(sentence), deacc=True))  # deacc=True removes punctuations\n",
    "\n",
    "data_words = list(sent_to_words(data))"
   ]
  },
  {
   "cell_type": "code",
   "execution_count": 11,
   "id": "cf715a7d",
   "metadata": {},
   "outputs": [],
   "source": [
    "# Build the bigram and trigram models\n",
    "bigram = gensim.models.Phrases(data_words, min_count=5, threshold=100) # higher threshold fewer phrases.\n",
    "trigram = gensim.models.Phrases(bigram[data_words], threshold=100)  \n",
    "\n",
    "# Faster way to get a sentence clubbed as a trigram/bigram\n",
    "bigram_mod = gensim.models.phrases.Phraser(bigram)\n",
    "trigram_mod = gensim.models.phrases.Phraser(trigram)"
   ]
  },
  {
   "cell_type": "code",
   "execution_count": 12,
   "id": "dd9a7962",
   "metadata": {},
   "outputs": [],
   "source": [
    "# Define functions for stopwords, bigrams, trigrams and lemmatization\n",
    "def remove_stopwords(texts):\n",
    "    return [[word for word in simple_preprocess(str(doc)) if word not in stop_words] for doc in texts]\n",
    "\n",
    "def make_bigrams(texts):\n",
    "    return [bigram_mod[doc] for doc in texts]\n",
    "\n",
    "def make_trigrams(texts):\n",
    "    return [trigram_mod[bigram_mod[doc]] for doc in texts]\n",
    "\n",
    "def lemmatization(texts, allowed_postags=['NOUN', 'ADJ', 'VERB', 'ADV']):\n",
    "    \"\"\"https://spacy.io/api/annotation\"\"\"\n",
    "    texts_out = []\n",
    "    for sent in texts:\n",
    "        doc = nlp(\" \".join(sent)) \n",
    "        texts_out.append([token.lemma_ for token in doc if token.pos_ in allowed_postags])\n",
    "    return texts_out"
   ]
  },
  {
   "cell_type": "code",
   "execution_count": 13,
   "id": "30802b49",
   "metadata": {},
   "outputs": [
    {
     "name": "stderr",
     "output_type": "stream",
     "text": [
      "C:\\Users\\dglover\\Anaconda3\\lib\\site-packages\\spacy\\language.py:1895: UserWarning: [W123] Argument disable with value ['parser', 'ner'] is used instead of ['senter'] as specified in the config. Be aware that this might affect other components in your pipeline.\n",
      "  warnings.warn(\n"
     ]
    }
   ],
   "source": [
    "# Remove Stop Words\n",
    "data_words_nostops = remove_stopwords(data_words)\n",
    "\n",
    "# Form Bigrams\n",
    "data_words_bigrams = make_bigrams(data_words_nostops)\n",
    "\n",
    "# Initialize spacy 'en' model, keeping only tagger component (for efficiency)\n",
    "# python3 -m spacy download en\n",
    "#nlp = spacy.load('en', disable=['parser', 'ner'])\n",
    "nlp = spacy.load(\"en_core_web_sm\", disable=['parser', 'ner'])\n",
    "\n",
    "# Do lemmatization keeping only noun, adj, vb, adv\n",
    "data_lemmatized = lemmatization(data_words_bigrams, allowed_postags=['NOUN', 'ADJ', 'VERB', 'ADV'])"
   ]
  },
  {
   "cell_type": "code",
   "execution_count": 14,
   "id": "b41c0fc9",
   "metadata": {},
   "outputs": [],
   "source": [
    "# Create Dictionary\n",
    "id2word = corpora.Dictionary(data_lemmatized)\n",
    "\n",
    "# Create Corpus\n",
    "texts = data_lemmatized\n",
    "\n",
    "# Term Document Frequency\n",
    "corpus = [id2word.doc2bow(text) for text in texts]"
   ]
  },
  {
   "cell_type": "code",
   "execution_count": 15,
   "id": "e832d025",
   "metadata": {},
   "outputs": [],
   "source": [
    "# Build LDA model\n",
    "lda_model = gensim.models.ldamodel.LdaModel(corpus=corpus,\n",
    "                                           id2word=id2word,\n",
    "                                           num_topics=40, \n",
    "                                           random_state=100,\n",
    "                                           update_every=1,\n",
    "                                           chunksize=100,\n",
    "                                           passes=10,\n",
    "                                           alpha='auto',\n",
    "                                           per_word_topics=True)"
   ]
  },
  {
   "cell_type": "code",
   "execution_count": 16,
   "id": "6284bd38",
   "metadata": {
    "scrolled": true
   },
   "outputs": [
    {
     "name": "stdout",
     "output_type": "stream",
     "text": [
      "[(0,\n",
      "  '0.001*\"evolve\" + 0.001*\"enable\" + 0.001*\"inexpensive\" + 0.001*\"humor\" + '\n",
      "  '0.001*\"extension\" + 0.001*\"lolcode\" + 0.001*\"concept\" + 0.001*\"course\" + '\n",
      "  '0.001*\"matter\" + 0.001*\"distribute\"'),\n",
      " (31,\n",
      "  '0.001*\"evolve\" + 0.001*\"enable\" + 0.001*\"inexpensive\" + 0.001*\"humor\" + '\n",
      "  '0.001*\"extension\" + 0.001*\"lolcode\" + 0.001*\"concept\" + 0.001*\"course\" + '\n",
      "  '0.001*\"matter\" + 0.001*\"distribute\"'),\n",
      " (33,\n",
      "  '0.001*\"evolve\" + 0.001*\"enable\" + 0.001*\"inexpensive\" + 0.001*\"humor\" + '\n",
      "  '0.001*\"extension\" + 0.001*\"lolcode\" + 0.001*\"concept\" + 0.001*\"course\" + '\n",
      "  '0.001*\"matter\" + 0.001*\"distribute\"'),\n",
      " (26,\n",
      "  '0.001*\"evolve\" + 0.001*\"enable\" + 0.001*\"inexpensive\" + 0.001*\"humor\" + '\n",
      "  '0.001*\"extension\" + 0.001*\"lolcode\" + 0.001*\"concept\" + 0.001*\"course\" + '\n",
      "  '0.001*\"matter\" + 0.001*\"distribute\"'),\n",
      " (38,\n",
      "  '0.001*\"evolve\" + 0.001*\"enable\" + 0.001*\"inexpensive\" + 0.001*\"humor\" + '\n",
      "  '0.001*\"extension\" + 0.001*\"lolcode\" + 0.001*\"concept\" + 0.001*\"course\" + '\n",
      "  '0.001*\"matter\" + 0.001*\"distribute\"'),\n",
      " (21,\n",
      "  '0.001*\"domain\" + 0.001*\"area\" + 0.001*\"large\" + 0.001*\"annotator\" + '\n",
      "  '0.001*\"dataset\" + 0.001*\"sentence\" + 0.001*\"website\" + 0.001*\"label\" + '\n",
      "  '0.001*\"novel\" + 0.001*\"negative\"'),\n",
      " (20,\n",
      "  '0.001*\"explain\" + 0.001*\"counterexample\" + 0.001*\"base\" + 0.001*\"propose\" + '\n",
      "  '0.001*\"path\" + 0.001*\"probability\" + 0.001*\"exceed\" + 0.001*\"plan\" + '\n",
      "  '0.001*\"solution\" + 0.001*\"complete\"'),\n",
      " (35,\n",
      "  '0.002*\"model\" + 0.001*\"language\" + 0.001*\"feature\" + 0.001*\"achieve\" + '\n",
      "  '0.001*\"task\" + 0.001*\"extraction\" + 0.001*\"term\" + 0.001*\"bidirectional\" + '\n",
      "  '0.001*\"improve\" + 0.001*\"memory\"'),\n",
      " (27,\n",
      "  '0.001*\"system\" + 0.001*\"worsen\" + 0.001*\"play\" + 0.001*\"ofdotype\" + '\n",
      "  '0.001*\"set\" + 0.001*\"smart\" + 0.001*\"device\" + 0.001*\"paper\" + '\n",
      "  '0.001*\"error\" + 0.001*\"adoption\"'),\n",
      " (13,\n",
      "  '0.002*\"model\" + 0.002*\"language\" + 0.001*\"task\" + 0.001*\"pretraine\" + '\n",
      "  '0.001*\"consist\" + 0.001*\"biencoder\" + 0.001*\"vector\" + 0.001*\"natural\" + '\n",
      "  '0.001*\"compare\" + 0.001*\"transformer\"'),\n",
      " (6,\n",
      "  '0.030*\"word\" + 0.030*\"model\" + 0.020*\"use\" + 0.020*\"learn\" + '\n",
      "  '0.020*\"community\" + 0.020*\"semantic\" + 0.020*\"embed\" + 0.020*\"evaluate\" + '\n",
      "  '0.010*\"task\" + 0.010*\"challenge\"'),\n",
      " (8,\n",
      "  '0.050*\"model\" + 0.050*\"language\" + 0.020*\"task\" + 0.020*\"processing\" + '\n",
      "  '0.020*\"extraction\" + 0.020*\"feature\" + 0.020*\"achieve\" + 0.020*\"constrain\" '\n",
      "  '+ 0.020*\"neural\" + 0.020*\"natural\"'),\n",
      " (12,\n",
      "  '0.041*\"research\" + 0.041*\"method\" + 0.027*\"use\" + 0.027*\"evaluate\" + '\n",
      "  '0.027*\"interaction\" + 0.027*\"biomedical\" + 0.027*\"sentence\" + '\n",
      "  '0.014*\"popular\" + 0.014*\"douvel\" + 0.014*\"azouaoua\"'),\n",
      " (1,\n",
      "  '0.028*\"language\" + 0.028*\"write\" + 0.019*\"czech\" + 0.019*\"embed\" + '\n",
      "  '0.019*\"method\" + 0.019*\"available\" + 0.019*\"natural\" + 0.019*\"thesis\" + '\n",
      "  '0.019*\"worsen\" + 0.019*\"system\"'),\n",
      " (15,\n",
      "  '0.031*\"use\" + 0.031*\"ground\" + 0.023*\"arabic\" + 0.023*\"sentiment\" + '\n",
      "  '0.023*\"language\" + 0.016*\"modification\" + 0.016*\"rnn\" + 0.016*\"method\" + '\n",
      "  '0.016*\"task\" + 0.016*\"network\"'),\n",
      " (36,\n",
      "  '0.045*\"emotion\" + 0.045*\"propose\" + 0.034*\"base\" + 0.034*\"model\" + '\n",
      "  '0.023*\"author\" + 0.023*\"hybrid\" + 0.023*\"classifier\" + '\n",
      "  '0.023*\"summarization\" + 0.023*\"detail\" + 0.023*\"distance\"'),\n",
      " (4,\n",
      "  '0.045*\"model\" + 0.036*\"use\" + 0.036*\"language\" + 0.027*\"word\" + '\n",
      "  '0.027*\"natural\" + 0.018*\"stateoftheart\" + 0.018*\"network\" + 0.018*\"also\" + '\n",
      "  '0.018*\"short\" + 0.018*\"dependency\"'),\n",
      " (22,\n",
      "  '0.049*\"system\" + 0.028*\"model\" + 0.021*\"usage\" + 0.021*\"lithium\" + '\n",
      "  '0.014*\"offensive\" + 0.014*\"language\" + 0.014*\"generation\" + '\n",
      "  '0.014*\"generate\" + 0.014*\"globally\" + 0.014*\"paper\"'),\n",
      " (29,\n",
      "  '0.036*\"work\" + 0.028*\"task\" + 0.021*\"efficient\" + 0.021*\"language\" + '\n",
      "  '0.021*\"lexical\" + 0.014*\"semantic\" + 0.014*\"intent\" + 0.014*\"process\" + '\n",
      "  '0.014*\"set\" + 0.014*\"model\"'),\n",
      " (24,\n",
      "  '0.026*\"language\" + 0.026*\"interpretation\" + 0.026*\"indian\" + 0.026*\"social\" '\n",
      "  '+ 0.026*\"base\" + 0.018*\"model\" + 0.018*\"text\" + 0.018*\"present\" + '\n",
      "  '0.018*\"method\" + 0.018*\"mix\"')]\n"
     ]
    }
   ],
   "source": [
    "# Print the Keyword in the 10 topics\n",
    "pprint(lda_model.print_topics())\n",
    "doc_lda = lda_model[corpus]"
   ]
  },
  {
   "cell_type": "code",
   "execution_count": 17,
   "id": "91679646",
   "metadata": {},
   "outputs": [
    {
     "name": "stdout",
     "output_type": "stream",
     "text": [
      "\n",
      "Perplexity:  -7.124806687392106\n",
      "\n",
      "Coherence Score:  0.716846906960634\n"
     ]
    }
   ],
   "source": [
    "# Compute Perplexity\n",
    "print('\\nPerplexity: ', lda_model.log_perplexity(corpus))  # a measure of how good the model is. lower the better.\n",
    "\n",
    "# Compute Coherence Score\n",
    "coherence_model_lda = CoherenceModel(model=lda_model, texts=data_lemmatized, dictionary=id2word, coherence='c_v')\n",
    "coherence_lda = coherence_model_lda.get_coherence()\n",
    "print('\\nCoherence Score: ', coherence_lda)"
   ]
  },
  {
   "cell_type": "code",
   "execution_count": null,
   "id": "15c032eb",
   "metadata": {},
   "outputs": [
    {
     "name": "stderr",
     "output_type": "stream",
     "text": [
      "C:\\Users\\dglover\\Anaconda3\\lib\\site-packages\\pyLDAvis\\_prepare.py:243: FutureWarning: In a future version of pandas all arguments of DataFrame.drop except for the argument 'labels' will be keyword-only.\n",
      "  default_term_info = default_term_info.sort_values(\n"
     ]
    }
   ],
   "source": [
    "# Visualize the topics\n",
    "pyLDAvis.enable_notebook()\n",
    "vis = pyLDAvis.gensim.prepare(lda_model, corpus, id2word)\n",
    "vis"
   ]
  },
  {
   "cell_type": "code",
   "execution_count": null,
   "id": "cd9f82fd",
   "metadata": {},
   "outputs": [],
   "source": [
    "def format_topics_sentences(ldamodel=None, corpus=corpus, texts=data):\n",
    "    # Init output\n",
    "    sent_topics_df = pd.DataFrame()\n",
    "\n",
    "    # Get main topic in each document\n",
    "    for i, row_list in enumerate(ldamodel[corpus]):\n",
    "        row = row_list[0] if ldamodel.per_word_topics else row_list            \n",
    "        # print(row)\n",
    "        row = sorted(row, key=lambda x: (x[1]), reverse=True)\n",
    "        # Get the Dominant topic, Perc Contribution and Keywords for each document\n",
    "        for j, (topic_num, prop_topic) in enumerate(row):\n",
    "            if j == 0:  # => dominant topic\n",
    "                wp = ldamodel.show_topic(topic_num)\n",
    "                topic_keywords = \", \".join([word for word, prop in wp])\n",
    "                sent_topics_df = sent_topics_df.append(pd.Series([int(topic_num), round(prop_topic,4), topic_keywords]), ignore_index=True)\n",
    "            else:\n",
    "                break\n",
    "    sent_topics_df.columns = ['Dominant_Topic', 'Perc_Contribution', 'Topic_Keywords']\n",
    "\n",
    "    # Add original text to the end of the output\n",
    "    contents = pd.Series(texts)\n",
    "    sent_topics_df = pd.concat([sent_topics_df, contents], axis=1)\n",
    "    return(sent_topics_df)\n",
    "\n",
    "\n",
    "df_topic_sents_keywords = format_topics_sentences(ldamodel=lda_model, corpus=corpus, texts=texts)\n",
    "\n",
    "# Format\n",
    "df_dominant_topic = df_topic_sents_keywords.reset_index()\n",
    "df_dominant_topic.columns = ['Document_No', 'Dominant_Topic', 'Topic_Perc_Contrib', 'Keywords', 'Text']"
   ]
  },
  {
   "cell_type": "code",
   "execution_count": null,
   "id": "8bcdeb25",
   "metadata": {},
   "outputs": [],
   "source": [
    "df_dominant_topic.to_csv('../data/Dominant_topics_of_absracts.csv')"
   ]
  },
  {
   "cell_type": "code",
   "execution_count": null,
   "id": "ea71fbc6",
   "metadata": {},
   "outputs": [],
   "source": [
    "df_dominant_topic.tail(10)"
   ]
  },
  {
   "cell_type": "code",
   "execution_count": null,
   "id": "e4634e97",
   "metadata": {},
   "outputs": [],
   "source": [
    "df_dominant_topic['Dominant_Topic'].value_counts()"
   ]
  },
  {
   "cell_type": "code",
   "execution_count": null,
   "id": "3db13218",
   "metadata": {},
   "outputs": [],
   "source": [
    "# Group top 5 sentences under each topic\n",
    "sent_topics_sorteddf_mallet = pd.DataFrame()\n",
    "\n",
    "sent_topics_outdf_grpd = df_topic_sents_keywords.groupby('Dominant_Topic')\n",
    "\n",
    "for i, grp in sent_topics_outdf_grpd:\n",
    "    sent_topics_sorteddf_mallet = pd.concat([sent_topics_sorteddf_mallet, \n",
    "                                             grp.sort_values(['Perc_Contribution'], ascending=[0]).head(1)], \n",
    "                                            axis=0)\n",
    "\n",
    "# Reset Index    \n",
    "sent_topics_sorteddf_mallet.reset_index(drop=True, inplace=True)\n",
    "\n",
    "# Format\n",
    "sent_topics_sorteddf_mallet.columns = ['Topic_Num', \"Topic_Perc_Contrib\", \"Keywords\", \"Text\"]\n",
    "\n",
    "# Show\n",
    "sent_topics_sorteddf_mallet.head()"
   ]
  },
  {
   "cell_type": "code",
   "execution_count": null,
   "id": "3c0c711e",
   "metadata": {},
   "outputs": [],
   "source": [
    "# Display setting to show more characters in column\n",
    "pd.options.display.max_colwidth = 100\n",
    "\n",
    "sent_topics_sorteddf_mallet = pd.DataFrame()\n",
    "sent_topics_outdf_grpd = df_topic_sents_keywords.groupby('Dominant_Topic')\n",
    "\n",
    "for i, grp in sent_topics_outdf_grpd:\n",
    "    sent_topics_sorteddf_mallet = pd.concat([sent_topics_sorteddf_mallet, \n",
    "                                             grp.sort_values(['Perc_Contribution'], ascending=False).head(1)], \n",
    "                                            axis=0)\n",
    "\n",
    "# Reset Index    \n",
    "sent_topics_sorteddf_mallet.reset_index(drop=True, inplace=True)\n",
    "\n",
    "# Format\n",
    "sent_topics_sorteddf_mallet.columns = ['Topic_Num', \"Topic_Perc_Contrib\", \"Keywords\", \"Representative Text\"]\n",
    "\n",
    "# Show\n",
    "sent_topics_sorteddf_mallet.head(10)"
   ]
  },
  {
   "cell_type": "code",
   "execution_count": null,
   "id": "c0e6eaf5",
   "metadata": {},
   "outputs": [],
   "source": [
    "# Number of Documents for Each Topic\n",
    "topic_counts = df_topic_sents_keywords['Dominant_Topic'].value_counts()\n",
    "\n",
    "# Percentage of Documents for Each Topic\n",
    "topic_contribution = round(topic_counts/topic_counts.sum(), 4)\n",
    "\n",
    "# Topic Number and Keywords\n",
    "topic_num_keywords = df_topic_sents_keywords[['Dominant_Topic', 'Topic_Keywords']]\n",
    "\n",
    "# Concatenate Column wise\n",
    "df_dominant_topics = pd.concat([topic_num_keywords, topic_counts, topic_contribution], axis=1)\n",
    "\n",
    "# Change Column names\n",
    "df_dominant_topics.columns = ['Dominant_Topic', 'Topic_Keywords', 'Num_Documents', 'Perc_Documents']\n",
    "\n",
    "# Show\n",
    "df_dominant_topics"
   ]
  },
  {
   "cell_type": "code",
   "execution_count": null,
   "id": "f8870b91",
   "metadata": {},
   "outputs": [],
   "source": []
  },
  {
   "cell_type": "code",
   "execution_count": null,
   "id": "46af1a9e",
   "metadata": {},
   "outputs": [],
   "source": []
  },
  {
   "cell_type": "code",
   "execution_count": null,
   "id": "75152243",
   "metadata": {},
   "outputs": [],
   "source": []
  },
  {
   "cell_type": "code",
   "execution_count": null,
   "id": "ce302396",
   "metadata": {},
   "outputs": [],
   "source": []
  },
  {
   "cell_type": "code",
   "execution_count": null,
   "id": "e20e2173",
   "metadata": {},
   "outputs": [],
   "source": []
  },
  {
   "cell_type": "code",
   "execution_count": null,
   "id": "696279a3",
   "metadata": {},
   "outputs": [],
   "source": []
  },
  {
   "cell_type": "code",
   "execution_count": null,
   "id": "f79536c6",
   "metadata": {},
   "outputs": [],
   "source": []
  },
  {
   "cell_type": "code",
   "execution_count": null,
   "id": "5e7a89ed",
   "metadata": {},
   "outputs": [],
   "source": []
  }
 ],
 "metadata": {
  "kernelspec": {
   "display_name": "Python 3 (ipykernel)",
   "language": "python",
   "name": "python3"
  },
  "language_info": {
   "codemirror_mode": {
    "name": "ipython",
    "version": 3
   },
   "file_extension": ".py",
   "mimetype": "text/x-python",
   "name": "python",
   "nbconvert_exporter": "python",
   "pygments_lexer": "ipython3",
   "version": "3.8.8"
  }
 },
 "nbformat": 4,
 "nbformat_minor": 5
}
