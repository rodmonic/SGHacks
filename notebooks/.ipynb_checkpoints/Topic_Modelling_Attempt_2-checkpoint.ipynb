{
 "cells": [
  {
   "cell_type": "markdown",
   "metadata": {
    "id": "OztDWF9tl4r0"
   },
   "source": [
    "# West Ham Topic Modelling\n",
    "\n",
    "Here I will try Topic Modelling on some of the West Ham text"
   ]
  },
  {
   "cell_type": "code",
   "execution_count": null,
   "metadata": {
    "id": "bpd0mo9xl4r1"
   },
   "outputs": [],
   "source": [
    "import re\n",
    "from gensim import models, corpora\n",
    "from nltk import word_tokenize\n",
    "from nltk.corpus import stopwords\n",
    "import nltk\n",
    "\n",
    "import pandas as pd\n",
    "import numpy as np"
   ]
  },
  {
   "cell_type": "code",
   "execution_count": null,
   "metadata": {
    "id": "xD_roSl-l4r2",
    "outputId": "f8ed4736-e384-4831-ac13-a91ca59438d1"
   },
   "outputs": [
    {
     "name": "stdout",
     "output_type": "stream",
     "text": [
      "[nltk_data] Downloading package punkt to\n",
      "[nltk_data]     C:\\Users\\denni\\AppData\\Roaming\\nltk_data...\n",
      "[nltk_data]   Unzipping tokenizers\\punkt.zip.\n"
     ]
    },
    {
     "data": {
      "text/plain": [
       "True"
      ]
     },
     "execution_count": 11,
     "metadata": {},
     "output_type": "execute_result"
    }
   ],
   "source": [
    "nltk.download('punkt')"
   ]
  },
  {
   "cell_type": "code",
   "execution_count": null,
   "metadata": {
    "id": "iMoyh208l4r3"
   },
   "outputs": [],
   "source": [
    "nltk.download('stopwords')"
   ]
  },
  {
   "cell_type": "code",
   "execution_count": null,
   "metadata": {
    "id": "b3V5AnQul4r3"
   },
   "outputs": [],
   "source": [
    "NUM_TOPICS = 10\n",
    "STOPWORDS = stopwords.words('english')\n",
    "STOPWRODS = STOPWORDS.append('wrote')\n",
    "\n",
    "def clean_text(text):\n",
    "    tokenized_text = word_tokenize(text.lower())\n",
    "    cleaned_text = [t for t in tokenized_text if t not in STOPWORDS and re.match('[a-zA-Z\\-][a-zA-Z\\-]{2,}', t) and pd.notnull(t)]\n",
    "    return cleaned_text"
   ]
  },
  {
   "cell_type": "code",
   "execution_count": null,
   "metadata": {
    "id": "G8K87To5l4r3",
    "outputId": "e02dcb6b-6e44-46b8-e91f-17dc9bc1b3c5"
   },
   "outputs": [
    {
     "data": {
      "text/plain": [
       "['i',\n",
       " 'me',\n",
       " 'my',\n",
       " 'myself',\n",
       " 'we',\n",
       " 'our',\n",
       " 'ours',\n",
       " 'ourselves',\n",
       " 'you',\n",
       " \"you're\",\n",
       " \"you've\",\n",
       " \"you'll\",\n",
       " \"you'd\",\n",
       " 'your',\n",
       " 'yours',\n",
       " 'yourself',\n",
       " 'yourselves',\n",
       " 'he',\n",
       " 'him',\n",
       " 'his',\n",
       " 'himself',\n",
       " 'she',\n",
       " \"she's\",\n",
       " 'her',\n",
       " 'hers',\n",
       " 'herself',\n",
       " 'it',\n",
       " \"it's\",\n",
       " 'its',\n",
       " 'itself',\n",
       " 'they',\n",
       " 'them',\n",
       " 'their',\n",
       " 'theirs',\n",
       " 'themselves',\n",
       " 'what',\n",
       " 'which',\n",
       " 'who',\n",
       " 'whom',\n",
       " 'this',\n",
       " 'that',\n",
       " \"that'll\",\n",
       " 'these',\n",
       " 'those',\n",
       " 'am',\n",
       " 'is',\n",
       " 'are',\n",
       " 'was',\n",
       " 'were',\n",
       " 'be',\n",
       " 'been',\n",
       " 'being',\n",
       " 'have',\n",
       " 'has',\n",
       " 'had',\n",
       " 'having',\n",
       " 'do',\n",
       " 'does',\n",
       " 'did',\n",
       " 'doing',\n",
       " 'a',\n",
       " 'an',\n",
       " 'the',\n",
       " 'and',\n",
       " 'but',\n",
       " 'if',\n",
       " 'or',\n",
       " 'because',\n",
       " 'as',\n",
       " 'until',\n",
       " 'while',\n",
       " 'of',\n",
       " 'at',\n",
       " 'by',\n",
       " 'for',\n",
       " 'with',\n",
       " 'about',\n",
       " 'against',\n",
       " 'between',\n",
       " 'into',\n",
       " 'through',\n",
       " 'during',\n",
       " 'before',\n",
       " 'after',\n",
       " 'above',\n",
       " 'below',\n",
       " 'to',\n",
       " 'from',\n",
       " 'up',\n",
       " 'down',\n",
       " 'in',\n",
       " 'out',\n",
       " 'on',\n",
       " 'off',\n",
       " 'over',\n",
       " 'under',\n",
       " 'again',\n",
       " 'further',\n",
       " 'then',\n",
       " 'once',\n",
       " 'here',\n",
       " 'there',\n",
       " 'when',\n",
       " 'where',\n",
       " 'why',\n",
       " 'how',\n",
       " 'all',\n",
       " 'any',\n",
       " 'both',\n",
       " 'each',\n",
       " 'few',\n",
       " 'more',\n",
       " 'most',\n",
       " 'other',\n",
       " 'some',\n",
       " 'such',\n",
       " 'no',\n",
       " 'nor',\n",
       " 'not',\n",
       " 'only',\n",
       " 'own',\n",
       " 'same',\n",
       " 'so',\n",
       " 'than',\n",
       " 'too',\n",
       " 'very',\n",
       " 's',\n",
       " 't',\n",
       " 'can',\n",
       " 'will',\n",
       " 'just',\n",
       " 'don',\n",
       " \"don't\",\n",
       " 'should',\n",
       " \"should've\",\n",
       " 'now',\n",
       " 'd',\n",
       " 'll',\n",
       " 'm',\n",
       " 'o',\n",
       " 're',\n",
       " 've',\n",
       " 'y',\n",
       " 'ain',\n",
       " 'aren',\n",
       " \"aren't\",\n",
       " 'couldn',\n",
       " \"couldn't\",\n",
       " 'didn',\n",
       " \"didn't\",\n",
       " 'doesn',\n",
       " \"doesn't\",\n",
       " 'hadn',\n",
       " \"hadn't\",\n",
       " 'hasn',\n",
       " \"hasn't\",\n",
       " 'haven',\n",
       " \"haven't\",\n",
       " 'isn',\n",
       " \"isn't\",\n",
       " 'ma',\n",
       " 'mightn',\n",
       " \"mightn't\",\n",
       " 'mustn',\n",
       " \"mustn't\",\n",
       " 'needn',\n",
       " \"needn't\",\n",
       " 'shan',\n",
       " \"shan't\",\n",
       " 'shouldn',\n",
       " \"shouldn't\",\n",
       " 'wasn',\n",
       " \"wasn't\",\n",
       " 'weren',\n",
       " \"weren't\",\n",
       " 'won',\n",
       " \"won't\",\n",
       " 'wouldn',\n",
       " \"wouldn't\",\n",
       " 'wrote']"
      ]
     },
     "execution_count": 3,
     "metadata": {},
     "output_type": "execute_result"
    }
   ],
   "source": [
    "STOPWORDS"
   ]
  },
  {
   "cell_type": "code",
   "execution_count": null,
   "metadata": {
    "id": "VJzFrw6ql4r4",
    "outputId": "4b2e00f0-e67d-4fb7-a6ff-56472a2d43a4"
   },
   "outputs": [
    {
     "name": "stdout",
     "output_type": "stream",
     "text": [
      "(6100, 7)\n"
     ]
    },
    {
     "data": {
      "text/html": [
       "<div>\n",
       "<style scoped>\n",
       "    .dataframe tbody tr th:only-of-type {\n",
       "        vertical-align: middle;\n",
       "    }\n",
       "\n",
       "    .dataframe tbody tr th {\n",
       "        vertical-align: top;\n",
       "    }\n",
       "\n",
       "    .dataframe thead th {\n",
       "        text-align: right;\n",
       "    }\n",
       "</style>\n",
       "<table border=\"1\" class=\"dataframe\">\n",
       "  <thead>\n",
       "    <tr style=\"text-align: right;\">\n",
       "      <th></th>\n",
       "      <th>Unnamed: 0</th>\n",
       "      <th>author</th>\n",
       "      <th>content</th>\n",
       "      <th>link</th>\n",
       "      <th>post_date</th>\n",
       "      <th>thread_link</th>\n",
       "      <th>thread_title</th>\n",
       "    </tr>\n",
       "  </thead>\n",
       "  <tbody>\n",
       "    <tr>\n",
       "      <th>0</th>\n",
       "      <td>2</td>\n",
       "      <td>redhammer</td>\n",
       "      <td>Bournemouth vlog</td>\n",
       "      <td>http://www.hammerschat.com/viewtopic.php?f=11&amp;...</td>\n",
       "      <td>r»Sun Feb 04, 2018 7:22 pm</td>\n",
       "      <td>http://www.hammerschat.com/viewtopic.php?f=11&amp;...</td>\n",
       "      <td>HC Videos - cup of tea, mike, vlog &amp; more</td>\n",
       "    </tr>\n",
       "    <tr>\n",
       "      <th>1</th>\n",
       "      <td>3</td>\n",
       "      <td>redhammer</td>\n",
       "      <td>Mike on Monday added, cup of tea tomorrow nigh...</td>\n",
       "      <td>http://www.hammerschat.com/viewtopic.php?f=11&amp;...</td>\n",
       "      <td>r»Mon Feb 05, 2018 9:04 pm</td>\n",
       "      <td>http://www.hammerschat.com/viewtopic.php?f=11&amp;...</td>\n",
       "      <td>Re: HC Videos</td>\n",
       "    </tr>\n",
       "    <tr>\n",
       "      <th>2</th>\n",
       "      <td>4</td>\n",
       "      <td>redhammer</td>\n",
       "      <td>cup of tea added if you have an hour to kill!!...</td>\n",
       "      <td>http://www.hammerschat.com/viewtopic.php?f=11&amp;...</td>\n",
       "      <td>r»Wed Feb 07, 2018 8:56 pm</td>\n",
       "      <td>http://www.hammerschat.com/viewtopic.php?f=11&amp;...</td>\n",
       "      <td>Re: HC Videos</td>\n",
       "    </tr>\n",
       "    <tr>\n",
       "      <th>3</th>\n",
       "      <td>5</td>\n",
       "      <td>belfasthammer</td>\n",
       "      <td>Thanks Geo Looking forward to COT as always</td>\n",
       "      <td>http://www.hammerschat.com/viewtopic.php?f=11&amp;...</td>\n",
       "      <td>r»Thu Feb 08, 2018 4:24 pm</td>\n",
       "      <td>http://www.hammerschat.com/viewtopic.php?f=11&amp;...</td>\n",
       "      <td>Re: HC Videos</td>\n",
       "    </tr>\n",
       "    <tr>\n",
       "      <th>4</th>\n",
       "      <td>6</td>\n",
       "      <td>Newmarket</td>\n",
       "      <td>Looks like a proper ....</td>\n",
       "      <td>http://www.hammerschat.com/viewtopic.php?f=11&amp;...</td>\n",
       "      <td>t»Thu Feb 15, 2018 9:03 pm</td>\n",
       "      <td>http://www.hammerschat.com/viewtopic.php?f=11&amp;...</td>\n",
       "      <td>Re: The Debate #2</td>\n",
       "    </tr>\n",
       "  </tbody>\n",
       "</table>\n",
       "</div>"
      ],
      "text/plain": [
       "   Unnamed: 0         author  \\\n",
       "0           2      redhammer   \n",
       "1           3      redhammer   \n",
       "2           4      redhammer   \n",
       "3           5  belfasthammer   \n",
       "4           6      Newmarket   \n",
       "\n",
       "                                             content  \\\n",
       "0                                   Bournemouth vlog   \n",
       "1  Mike on Monday added, cup of tea tomorrow nigh...   \n",
       "2  cup of tea added if you have an hour to kill!!...   \n",
       "3        Thanks Geo Looking forward to COT as always   \n",
       "4                           Looks like a proper ....   \n",
       "\n",
       "                                                link  \\\n",
       "0  http://www.hammerschat.com/viewtopic.php?f=11&...   \n",
       "1  http://www.hammerschat.com/viewtopic.php?f=11&...   \n",
       "2  http://www.hammerschat.com/viewtopic.php?f=11&...   \n",
       "3  http://www.hammerschat.com/viewtopic.php?f=11&...   \n",
       "4  http://www.hammerschat.com/viewtopic.php?f=11&...   \n",
       "\n",
       "                    post_date  \\\n",
       "0  r»Sun Feb 04, 2018 7:22 pm   \n",
       "1  r»Mon Feb 05, 2018 9:04 pm   \n",
       "2  r»Wed Feb 07, 2018 8:56 pm   \n",
       "3  r»Thu Feb 08, 2018 4:24 pm   \n",
       "4  t»Thu Feb 15, 2018 9:03 pm   \n",
       "\n",
       "                                         thread_link  \\\n",
       "0  http://www.hammerschat.com/viewtopic.php?f=11&...   \n",
       "1  http://www.hammerschat.com/viewtopic.php?f=11&...   \n",
       "2  http://www.hammerschat.com/viewtopic.php?f=11&...   \n",
       "3  http://www.hammerschat.com/viewtopic.php?f=11&...   \n",
       "4  http://www.hammerschat.com/viewtopic.php?f=11&...   \n",
       "\n",
       "                                thread_title  \n",
       "0  HC Videos - cup of tea, mike, vlog & more  \n",
       "1                              Re: HC Videos  \n",
       "2                              Re: HC Videos  \n",
       "3                              Re: HC Videos  \n",
       "4                          Re: The Debate #2  "
      ]
     },
     "execution_count": 4,
     "metadata": {},
     "output_type": "execute_result"
    }
   ],
   "source": [
    "# Load some data\n",
    "hammerchat = pd.read_csv('HC_combined_df.csv')\n",
    "print (hammerchat.shape)\n",
    "hammerchat.head()"
   ]
  },
  {
   "cell_type": "code",
   "execution_count": null,
   "metadata": {
    "id": "-mmRM1Ell4r4",
    "outputId": "a1378057-f98c-4ca7-c2e2-676d0f000e16"
   },
   "outputs": [
    {
     "name": "stdout",
     "output_type": "stream",
     "text": [
      "<class 'pandas.core.frame.DataFrame'>\n",
      "RangeIndex: 6100 entries, 0 to 6099\n",
      "Data columns (total 7 columns):\n",
      "Unnamed: 0      6100 non-null int64\n",
      "author          6093 non-null object\n",
      "content         5725 non-null object\n",
      "link            6100 non-null object\n",
      "post_date       6097 non-null object\n",
      "thread_link     6100 non-null object\n",
      "thread_title    6093 non-null object\n",
      "dtypes: int64(1), object(6)\n",
      "memory usage: 333.7+ KB\n"
     ]
    }
   ],
   "source": [
    "hammerchat.info()"
   ]
  },
  {
   "cell_type": "code",
   "execution_count": null,
   "metadata": {
    "id": "QETvez4Il4r4",
    "outputId": "f7579789-778f-4024-a1e2-ec52b327b611"
   },
   "outputs": [
    {
     "name": "stdout",
     "output_type": "stream",
     "text": [
      "(5725, 7)\n"
     ]
    }
   ],
   "source": [
    "# Reduce the Dataframe\n",
    "hammerchat = hammerchat.dropna(subset=['content'])\n",
    "print(hammerchat.shape)"
   ]
  },
  {
   "cell_type": "code",
   "execution_count": null,
   "metadata": {
    "id": "xu7H5frfl4r4",
    "outputId": "84de5ead-84ef-4d44-c8e1-148005326e7f"
   },
   "outputs": [
    {
     "name": "stdout",
     "output_type": "stream",
     "text": [
      "5725\n"
     ]
    }
   ],
   "source": [
    "# For gensim we need to tokenize the data and filter out stopwords\n",
    "tokenized_data = []\n",
    "for q,text in enumerate(hammerchat.content):\n",
    "    tokenized_data.append(clean_text(text))\n",
    "\n",
    "\n",
    "print(len(tokenized_data))"
   ]
  },
  {
   "cell_type": "code",
   "execution_count": null,
   "metadata": {
    "id": "7joIqwSnl4r4",
    "outputId": "af7a6d94-b63c-4210-87ba-e69a395e8de2"
   },
   "outputs": [
    {
     "name": "stdout",
     "output_type": "stream",
     "text": [
      "[(40, 1), (47, 1), (57, 1), (65, 1), (84, 1), (106, 1), (121, 1), (143, 1), (191, 1), (247, 2), (248, 1), (249, 1), (250, 2), (251, 1), (252, 1), (253, 1), (254, 1), (255, 1), (256, 1), (257, 1), (258, 1), (259, 1), (260, 2), (261, 1), (262, 1), (263, 1), (264, 1), (265, 1)]\n"
     ]
    }
   ],
   "source": [
    "# Build a Dictionary - association word to numeric id\n",
    "dictionary = corpora.Dictionary(tokenized_data)\n",
    "\n",
    "# Transform the collection of texts to a numerical form\n",
    "corpus = [dictionary.doc2bow(text) for text in tokenized_data]\n",
    "\n",
    "# Have a look at how the 20th document looks like: [(word_id, count), ...]\n",
    "print(corpus[20])\n",
    "# [(12, 3), (14, 1), (21, 1), (25, 5), (30, 2), (31, 5), (33, 1), (42, 1), (43, 2),  ...\n",
    "\n",
    "# Build the LDA model\n",
    "lda_model = models.LdaModel(corpus=corpus, num_topics=NUM_TOPICS, id2word=dictionary)\n",
    "\n",
    "# Build the LSI model\n",
    "#lsi_model = models.LsiModel(corpus=corpus, num_topics=NUM_TOPICS, id2word=dictionary)\n"
   ]
  },
  {
   "cell_type": "code",
   "execution_count": null,
   "metadata": {
    "id": "STtuOYI5l4r5",
    "outputId": "cbddd70c-3406-4382-f675-47c8423af025"
   },
   "outputs": [
    {
     "data": {
      "text/plain": [
       "[(0,\n",
       "  '0.009*\"get\" + 0.009*\"would\" + 0.009*\"like\" + 0.008*\"got\" + 0.006*\"loan\" + 0.005*\"want\" + 0.005*\"buy\" + 0.005*\"never\"'),\n",
       " (1,\n",
       "  '0.010*\"would\" + 0.007*\"one\" + 0.007*\"get\" + 0.006*\"fans\" + 0.006*\"say\" + 0.005*\"could\" + 0.005*\"think\" + 0.005*\"mate\"'),\n",
       " (2,\n",
       "  '0.009*\"think\" + 0.008*\"one\" + 0.007*\"players\" + 0.007*\"transfer\" + 0.006*\"would\" + 0.006*\"palerider\" + 0.005*\"get\" + 0.005*\"deal\"'),\n",
       " (3,\n",
       "  '0.017*\"genuinely\" + 0.017*\"amused\" + 0.011*\"play\" + 0.007*\"one\" + 0.007*\"mario\" + 0.007*\"know\" + 0.006*\"arnie\" + 0.006*\"back\"'),\n",
       " (4,\n",
       "  '0.012*\"ham\" + 0.010*\"would\" + 0.009*\"player\" + 0.008*\"west\" + 0.008*\"like\" + 0.008*\"good\" + 0.007*\"team\" + 0.007*\"one\"'),\n",
       " (5,\n",
       "  '0.012*\"get\" + 0.011*\"good\" + 0.009*\"game\" + 0.008*\"season\" + 0.007*\"would\" + 0.007*\"think\" + 0.006*\"one\" + 0.006*\"games\"'),\n",
       " (6,\n",
       "  '0.016*\"ham\" + 0.013*\"west\" + 0.010*\"man\" + 0.010*\"would\" + 0.008*\"palace\" + 0.008*\"city\" + 0.007*\"one\" + 0.006*\"club\"'),\n",
       " (7,\n",
       "  '0.008*\"would\" + 0.008*\"time\" + 0.008*\"cardiff\" + 0.007*\"linked\" + 0.007*\"game\" + 0.006*\"think\" + 0.006*\"know\" + 0.005*\"well\"'),\n",
       " (8,\n",
       "  '0.007*\"would\" + 0.007*\"club\" + 0.007*\"even\" + 0.006*\"bid\" + 0.006*\"one\" + 0.006*\"great\" + 0.006*\"see\" + 0.006*\"good\"'),\n",
       " (9,\n",
       "  '0.011*\"players\" + 0.009*\"season\" + 0.007*\"good\" + 0.007*\"one\" + 0.007*\"team\" + 0.007*\"would\" + 0.006*\"like\" + 0.006*\"time\"')]"
      ]
     },
     "execution_count": 18,
     "metadata": {},
     "output_type": "execute_result"
    }
   ],
   "source": [
    "lda_model.print_topics(num_words=8)"
   ]
  },
  {
   "cell_type": "code",
   "execution_count": null,
   "metadata": {
    "id": "I7NqIGQfl4r5"
   },
   "outputs": [],
   "source": [
    "topics = lda_model.print_topics(num_words=8)"
   ]
  },
  {
   "cell_type": "code",
   "execution_count": null,
   "metadata": {
    "id": "zqnCeAqfl4r5"
   },
   "outputs": [],
   "source": [
    "topics_df = pd.DataFrame(topics)"
   ]
  },
  {
   "cell_type": "code",
   "execution_count": null,
   "metadata": {
    "id": "zvJCDzo0l4r5"
   },
   "outputs": [],
   "source": [
    "topics_df.to_csv('Hammerschat_topics.csv')"
   ]
  },
  {
   "cell_type": "code",
   "execution_count": null,
   "metadata": {
    "id": "XRziT0tal4r5"
   },
   "outputs": [],
   "source": []
  },
  {
   "cell_type": "code",
   "execution_count": null,
   "metadata": {
    "id": "CI9mUZ02l4r5"
   },
   "outputs": [],
   "source": []
  },
  {
   "cell_type": "code",
   "execution_count": null,
   "metadata": {
    "id": "rzS_i8cyl4r5"
   },
   "outputs": [],
   "source": []
  }
 ],
 "metadata": {
  "colab": {
   "provenance": []
  },
  "kernelspec": {
   "display_name": "Python 3 (ipykernel)",
   "language": "python",
   "name": "python3"
  },
  "language_info": {
   "codemirror_mode": {
    "name": "ipython",
    "version": 3
   },
   "file_extension": ".py",
   "mimetype": "text/x-python",
   "name": "python",
   "nbconvert_exporter": "python",
   "pygments_lexer": "ipython3",
   "version": "3.8.8"
  }
 },
 "nbformat": 4,
 "nbformat_minor": 1
}
